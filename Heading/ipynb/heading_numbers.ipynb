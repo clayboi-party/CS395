{
 "cells": [
  {
   "cell_type": "code",
   "execution_count": 1,
   "id": "a7bd065d-2f30-4eb8-885d-cb0f7f41b903",
   "metadata": {},
   "outputs": [
    {
     "name": "stdout",
     "output_type": "stream",
     "text": [
      "Heading Counts:\n",
      "h1: 413\n",
      "h2: 1492\n",
      "h3: 332\n",
      "h4: 49\n",
      "h5: 15\n",
      "h6: 0\n",
      "Heading counts saved to heading_counts.json and heading_counts.html\n"
     ]
    }
   ],
   "source": [
    "import json\n",
    "\n",
    "# load the JSON data\n",
    "with open('url_headings.json', 'r', encoding='utf-8') as file:\n",
    "    data = json.load(file)\n",
    "\n",
    "# initialize a dictionary to hold the counts for each heading level\n",
    "heading_counts = {\n",
    "    'h1': 0,\n",
    "    'h2': 0,\n",
    "    'h3': 0,\n",
    "    'h4': 0,\n",
    "    'h5': 0,\n",
    "    'h6': 0\n",
    "}\n",
    "\n",
    "# go through the data and count the headings\n",
    "for entry in data:\n",
    "    if entry['headings'] is not None:\n",
    "        for heading, texts in entry['headings'].items():\n",
    "            heading_counts[heading] += len(texts)\n",
    "\n",
    "# results print\n",
    "print(\"Heading Counts:\")\n",
    "for heading, count in heading_counts.items():\n",
    "    print(f\"{heading}: {count}\")\n",
    "\n",
    "# save the results to JSON\n",
    "with open('heading_counts.json', 'w', encoding='utf-8') as json_file:\n",
    "    json.dump(heading_counts, json_file, indent=4, ensure_ascii=False)\n",
    "\n",
    "# save the results to HTML\n",
    "html_content = \"<html><head><title>Heading Counts</title></head><body>\"\n",
    "html_content += \"<h1>Heading Counts</h1>\"\n",
    "html_content += \"<table border='1'><tr><th>Heading</th><th>Count</th></tr>\"\n",
    "\n",
    "for heading, count in heading_counts.items():\n",
    "    html_content += f\"<tr><td>{heading}</td><td>{count}</td></tr>\"\n",
    "\n",
    "html_content += \"</table></body></html>\"\n",
    "\n",
    "with open('heading_counts.html', 'w', encoding='utf-8') as html_file:\n",
    "    html_file.write(html_content)\n",
    "\n",
    "print(\"Heading counts saved to heading_counts.json and heading_counts.html\")\n"
   ]
  },
  {
   "cell_type": "code",
   "execution_count": null,
   "id": "1f5bb268-b7ff-4acd-ab5a-21780f84f428",
   "metadata": {},
   "outputs": [],
   "source": []
  }
 ],
 "metadata": {
  "kernelspec": {
   "display_name": "Python 3 (ipykernel)",
   "language": "python",
   "name": "python3"
  },
  "language_info": {
   "codemirror_mode": {
    "name": "ipython",
    "version": 3
   },
   "file_extension": ".py",
   "mimetype": "text/x-python",
   "name": "python",
   "nbconvert_exporter": "python",
   "pygments_lexer": "ipython3",
   "version": "3.12.4"
  }
 },
 "nbformat": 4,
 "nbformat_minor": 5
}
