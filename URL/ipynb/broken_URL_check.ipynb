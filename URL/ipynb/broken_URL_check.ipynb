{
 "cells": [
  {
   "cell_type": "code",
   "execution_count": 1,
   "id": "2a1648ef-0cc3-4d04-acfe-8c68470408c9",
   "metadata": {},
   "outputs": [
    {
     "name": "stdout",
     "output_type": "stream",
     "text": [
      "Potential issue with https://geoim.bloomberght.com (Status code: 403)\n",
      "Potential issue with https://im.showtv.com.tr (Status code: 403)\n",
      "Potential issue with https://mo.ciner.com.tr (Status code: 403)\n",
      "Broken link found: https://static.criteo.net (404 Not Found)\n",
      "Broken link found: https://pagead2.googlesyndication.com (404 Not Found)\n",
      "Potential issue with https://www.googletagmanager.com (Status code: 400)\n",
      "Broken link found: https://www.googletagservices.com (404 Not Found)\n",
      "Broken link found: https://securepubads.g.doubleclick.net (404 Not Found)\n"
     ]
    }
   ],
   "source": [
    "import json\n",
    "import requests\n",
    "from urllib.parse import urljoin\n",
    "import logging\n",
    "logging.disable(logging.CRITICAL)\n",
    "\n",
    "base_url = 'https://www.haberturk.com'\n",
    "\n",
    "json_file_path = 'urls.json'\n",
    "\n",
    "# open json file to read data\n",
    "with open(json_file_path, 'r') as file:\n",
    "    data = json.load(file)\n",
    "\n",
    "unique_urls = data['unique_urls']\n",
    "\n",
    "# List to hold the full URLs\n",
    "full_urls = []\n",
    "\n",
    "# join base URL with relative URLs\n",
    "for url in unique_urls:\n",
    "    full_url = urljoin(base_url, url)\n",
    "    full_urls.append(full_url)\n",
    "\n",
    "# check each full URL\n",
    "for url in full_urls:\n",
    "    try:\n",
    "        response = requests.head(url, allow_redirects=True, timeout=10)\n",
    "        if response.status_code == 404:\n",
    "           print(f\"Broken link found: {url} (404 Not Found)\")\n",
    "        elif response.status_code >= 400:\n",
    "            print(f\"Potential issue with {url} (Status code: {response.status_code})\")\n",
    "    except requests.RequestException as e:\n",
    "        logging.error(f\"Error checking {url}: {e}\")\n"
   ]
  }
 ],
 "metadata": {
  "kernelspec": {
   "display_name": "Python 3 (ipykernel)",
   "language": "python",
   "name": "python3"
  },
  "language_info": {
   "codemirror_mode": {
    "name": "ipython",
    "version": 3
   },
   "file_extension": ".py",
   "mimetype": "text/x-python",
   "name": "python",
   "nbconvert_exporter": "python",
   "pygments_lexer": "ipython3",
   "version": "3.12.4"
  }
 },
 "nbformat": 4,
 "nbformat_minor": 5
}
