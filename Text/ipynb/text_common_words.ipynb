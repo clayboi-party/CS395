{
 "cells": [
  {
   "cell_type": "code",
   "execution_count": 3,
   "id": "bd259b9f-05f6-4f56-b810-45d33a5e42dc",
   "metadata": {},
   "outputs": [
    {
     "name": "stdout",
     "output_type": "stream",
     "text": [
      "Word frequency data saved to word_frequency.json and word_frequency.html.\n"
     ]
    }
   ],
   "source": [
    "import json\n",
    "import re\n",
    "from collections import Counter\n",
    "from bs4 import BeautifulSoup\n",
    "\n",
    "# load text data from texts.json\n",
    "with open('texts.json', 'r', encoding='utf-8') as file:\n",
    "    text_data = json.load(file)\n",
    "\n",
    "# clean and split text into words\n",
    "def extract_words(text):\n",
    "    # remove HTML tags\n",
    "    soup = BeautifulSoup(text, 'html.parser')\n",
    "    clean_text = soup.get_text()\n",
    "    # find words, excluding numbers and single letter words\n",
    "    words = re.findall(r'\\b[a-zA-Z]{2,}\\b', clean_text.lower())\n",
    "    return words\n",
    "\n",
    "# counter for all words\n",
    "word_counter = Counter()\n",
    "\n",
    "# process every text\n",
    "for url, text in text_data.items():\n",
    "    words = extract_words(text)\n",
    "    word_counter.update(words)\n",
    "\n",
    "# get thecommon words\n",
    "most_common_words = word_counter.most_common()\n",
    "\n",
    "# to dictionary format\n",
    "word_frequency = {word: count for word, count in most_common_words}\n",
    "\n",
    "# save the word data to JSON\n",
    "with open('text_common_words.json', 'w', encoding='utf-8') as json_file:\n",
    "    json.dump(word_frequency, json_file, ensure_ascii=False, indent=4)\n",
    "\n",
    "# save the word data to HTML\n",
    "with open('text_common_words.html', 'w', encoding='utf-8') as html_file:\n",
    "    html_file.write('<html><body>\\n')\n",
    "    html_file.write('<h1>Word Frequency</h1>\\n')\n",
    "    html_file.write('<ul>\\n')\n",
    "    for word, count in most_common_words:\n",
    "        html_file.write(f'<li>{word}: {count}</li>\\n')\n",
    "    html_file.write('</ul>\\n')\n",
    "    html_file.write('</body></html>\\n')\n",
    "\n",
    "print(\"Word frequency data saved to word_frequency.json and word_frequency.html.\")\n"
   ]
  },
  {
   "cell_type": "code",
   "execution_count": null,
   "id": "8287b68a-aefa-4a1a-936e-c3d490356cda",
   "metadata": {},
   "outputs": [],
   "source": []
  }
 ],
 "metadata": {
  "kernelspec": {
   "display_name": "Python 3 (ipykernel)",
   "language": "python",
   "name": "python3"
  },
  "language_info": {
   "codemirror_mode": {
    "name": "ipython",
    "version": 3
   },
   "file_extension": ".py",
   "mimetype": "text/x-python",
   "name": "python",
   "nbconvert_exporter": "python",
   "pygments_lexer": "ipython3",
   "version": "3.12.4"
  }
 },
 "nbformat": 4,
 "nbformat_minor": 5
}
