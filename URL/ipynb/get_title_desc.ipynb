{
 "cells": [
  {
   "cell_type": "code",
   "execution_count": 1,
   "id": "8042a966-881a-4d76-9671-31c966c1c0b5",
   "metadata": {},
   "outputs": [
    {
     "name": "stdout",
     "output_type": "stream",
     "text": [
      "Title:  Habertürk - Güncel Haberler, Son Dakika Haberleri ve Günün Haberleri\n",
      "Description:  Haberler, son dakika haberleri ve en son gelişmeler Habertürk'te! Gazete haberleri, güncel olaylar ve ekonomi, magazin, gündem, spor haberi Türkiye'nin en büyük internet gazetesinde!\n"
     ]
    }
   ],
   "source": [
    "import requests\n",
    "from bs4 import BeautifulSoup\n",
    "\n",
    "# website request\n",
    "url = \"https://www.haberturk.com\"\n",
    "response = requests.get(url)\n",
    "\n",
    "# parsing html content for title\n",
    "soup = BeautifulSoup(response.content, 'html.parser')\n",
    "title = soup.title.string\n",
    "\n",
    "# get description\n",
    "description = soup.find('meta', attrs={'name': 'description'})\n",
    "if description:\n",
    "    description = description['content']\n",
    "else:\n",
    "    description = \"Can't find description\"\n",
    "\n",
    "# print\n",
    "print (\"Title: \", title)\n",
    "print (\"Description: \", description)"
   ]
  },
  {
   "cell_type": "code",
   "execution_count": null,
   "id": "0aa0be27-b352-4a87-9bfd-2c2eeda8e6b8",
   "metadata": {},
   "outputs": [],
   "source": []
  }
 ],
 "metadata": {
  "kernelspec": {
   "display_name": "Python 3 (ipykernel)",
   "language": "python",
   "name": "python3"
  },
  "language_info": {
   "codemirror_mode": {
    "name": "ipython",
    "version": 3
   },
   "file_extension": ".py",
   "mimetype": "text/x-python",
   "name": "python",
   "nbconvert_exporter": "python",
   "pygments_lexer": "ipython3",
   "version": "3.12.4"
  }
 },
 "nbformat": 4,
 "nbformat_minor": 5
}
