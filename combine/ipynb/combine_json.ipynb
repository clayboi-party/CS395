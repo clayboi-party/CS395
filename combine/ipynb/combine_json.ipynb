{
 "cells": [
  {
   "cell_type": "code",
   "execution_count": 4,
   "id": "0dbbe16e-2e56-4fd1-9af4-920223971225",
   "metadata": {},
   "outputs": [
    {
     "name": "stdout",
     "output_type": "stream",
     "text": [
      "Combined JSON file created successfully.\n"
     ]
    }
   ],
   "source": [
    "import json\n",
    "\n",
    "# all the filenames and their classes\n",
    "files_and_classes = {\n",
    "    'urls.json': 'URLs',\n",
    "    'image_urls.json': 'images',\n",
    "    'scripts.json': 'scripts',\n",
    "    'css_files.json': 'css',\n",
    "    'texts.json': 'texts',\n",
    "    'url_sizes.json': 'page_sizes',\n",
    "    'url_headers.json': 'headers',\n",
    "    'url_meta_tags.json': 'meta_tags',\n",
    "    'url_headings.json': 'headings'\n",
    "}\n",
    "\n",
    "combined_data = {}\n",
    "\n",
    "# loop for all the data\n",
    "for filename, class_name in files_and_classes.items():\n",
    "    with open(filename, 'r', encoding='utf-8') as file:\n",
    "        data = json.load(file)\n",
    "        combined_data[class_name] = data\n",
    "\n",
    "# combine data to a JSON file\n",
    "with open('combined.json', 'w', encoding='utf-8') as combined_file:\n",
    "    json.dump(combined_data, combined_file, indent=4)\n",
    "\n",
    "print(\"Combined JSON file created successfully.\")\n"
   ]
  }
 ],
 "metadata": {
  "kernelspec": {
   "display_name": "Python 3 (ipykernel)",
   "language": "python",
   "name": "python3"
  },
  "language_info": {
   "codemirror_mode": {
    "name": "ipython",
    "version": 3
   },
   "file_extension": ".py",
   "mimetype": "text/x-python",
   "name": "python",
   "nbconvert_exporter": "python",
   "pygments_lexer": "ipython3",
   "version": "3.12.4"
  }
 },
 "nbformat": 4,
 "nbformat_minor": 5
}
